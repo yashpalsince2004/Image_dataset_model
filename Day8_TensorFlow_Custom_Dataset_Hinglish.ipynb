{
 "cells": [
  {
   "cell_type": "markdown",
   "metadata": {},
   "source": [
    "# 🧾 Day 8: Train CNN on Custom Dataset (Hinglish)\n",
    "Aaj hum custom image dataset ka use karenge CNN ko train karne ke liye."
   ]
  },
  {
   "cell_type": "markdown",
   "metadata": {},
   "source": [
    "## 📁 Dataset Structure (Example)\n",
    "```\n",
    "custom_data/\n",
    "├── train/\n",
    "│   ├── class1/\n",
    "│   └── class2/\n",
    "├── test/\n",
    "    ├── class1/\n",
    "    └── class2/\n",
    "```\n",
    "> Har class ke images apne alag folder mein hone chahiye."
   ]
  },
  {
   "cell_type": "code",
   "execution_count": null,
   "metadata": {},
   "outputs": [],
   "source": [
    "# ✅ Import karo\n",
    "import tensorflow as tf\n",
    "from tensorflow import keras\n",
    "from tensorflow.keras.preprocessing.image import ImageDataGenerator"
   ]
  },
  {
   "cell_type": "markdown",
   "metadata": {},
   "source": [
    "## 🔃 Load Data using ImageDataGenerator\n",
    "- Images ko normalize karte hain (1/255)\n",
    "- `target_size=(64, 64)` ka matlab har image ko 64x64 size mein convert karna"
   ]
  },
  {
   "cell_type": "code",
   "execution_count": null,
   "metadata": {},
   "outputs": [],
   "source": [
    "train_datagen = ImageDataGenerator(rescale=1./255)\n",
    "test_datagen = ImageDataGenerator(rescale=1./255)\n",
    "\n",
    "train_data = train_datagen.flow_from_directory(\n",
    "    'custom_data/train',\n",
    "    target_size=(64, 64),\n",
    "    batch_size=32,\n",
    "    class_mode='categorical'\n",
    ")\n",
    "\n",
    "test_data = test_datagen.flow_from_directory(\n",
    "    'custom_data/test',\n",
    "    target_size=(64, 64),\n",
    "    batch_size=32,\n",
    "    class_mode='categorical'\n",
    ")"
   ]
  },
  {
   "cell_type": "markdown",
   "metadata": {},
   "source": [
    "## 🧠 CNN Model for Custom Dataset\n",
    "- Input shape = (64, 64, 3) → RGB image\n",
    "- Output neurons = number of classes (dynamic from dataset)"
   ]
  },
  {
   "cell_type": "code",
   "execution_count": null,
   "metadata": {},
   "outputs": [],
   "source": [
    "num_classes = train_data.num_classes\n",
    "\n",
    "model = keras.Sequential([\n",
    "    keras.layers.Conv2D(32, (3,3), activation='relu', input_shape=(64,64,3)),\n",
    "    keras.layers.MaxPooling2D(2,2),\n",
    "    keras.layers.Conv2D(64, (3,3), activation='relu'),\n",
    "    keras.layers.MaxPooling2D(2,2),\n",
    "    keras.layers.Flatten(),\n",
    "    keras.layers.Dense(64, activation='relu'),\n",
    "    keras.layers.Dense(num_classes, activation='softmax')\n",
    "])"
   ]
  },
  {
   "cell_type": "markdown",
   "metadata": {},
   "source": [
    "## 🏋️ Model Train karo\n",
    "- Categorical Crossentropy because of multiple classes\n",
    "- Adam optimizer + accuracy metric\n",
    "- 10 epochs\n",
    "- Model save karo 'custom_model.h5'"
   ]
  },
  {
   "cell_type": "code",
   "execution_count": null,
   "metadata": {},
   "outputs": [],
   "source": [
    "model.compile(optimizer='adam',\n",
    "              loss='categorical_crossentropy',\n",
    "              metrics=['accuracy'])\n",
    "\n",
    "model.fit(train_data, epochs=10, validation_data=test_data)\n",
    "model.save('custom_model.h5')\n",
    "#✅ Model ko save karo\n",
    "print(\"Model saved as 'custom_model.h5'\")  # ✅ Confirmation message"
   ]
  },
  {
   "cell_type": "markdown",
   "id": "e8218e4b",
   "metadata": {},
   "source": [
    "## Run and Test the model"
   ]
  },
  {
   "cell_type": "code",
   "execution_count": null,
   "id": "ec2c5a9f",
   "metadata": {},
   "outputs": [],
   "source": [
    "# ✅ Import required libraries\n",
    "import tensorflow as tf\n",
    "from tensorflow import keras\n",
    "import numpy as np\n",
    "import matplotlib.pyplot as plt\n",
    "import os\n",
    "from tensorflow.keras.preprocessing.image import ImageDataGenerator\n",
    "\n",
    "# ✅ Load the saved model\n",
    "model = keras.models.load_model('custom_model.h5')\n",
    "print(\"✅ Model loaded successfully!\")\n",
    "\n",
    "# ✅ Prepare test data\n",
    "test_datagen = ImageDataGenerator(rescale=1./255)\n",
    "test_data = test_datagen.flow_from_directory(\n",
    "    'custom_data/test',\n",
    "    target_size=(64, 64),\n",
    "    batch_size=1,  # Predict 1 image at a time\n",
    "    class_mode='categorical',\n",
    "    shuffle=False\n",
    ")\n",
    "\n",
    "# ✅ Get class labels (cat & dog)\n",
    "class_indices = test_data.class_indices\n",
    "labels = list(class_indices.keys())  # ['cat', 'dog']\n",
    "\n",
    "# ✅ Predict on test data\n",
    "predictions = model.predict(test_data, verbose=1)\n",
    "predicted_classes = np.argmax(predictions, axis=1)\n",
    "true_classes = test_data.classes\n",
    "\n",
    "# ✅ Test accuracy\n",
    "accuracy = np.sum(predicted_classes == true_classes) / len(true_classes)\n",
    "print(f\"✅ Test Accuracy: {accuracy * 100:.2f}%\")\n",
    "\n",
    "# ✅ Visualize Predictions\n",
    "def visualize_predictions(test_data, predicted_classes, labels, num_images=None):\n",
    "    if num_images is None or num_images > len(predicted_classes):\n",
    "        num_images = len(predicted_classes)\n",
    "\n",
    "    # Reset generator to start from the beginning\n",
    "    test_data.reset()\n",
    "    \n",
    "    plt.figure(figsize=(15, 8))\n",
    "    for i in range(num_images):\n",
    "        img_batch, true_label_batch = next(test_data)\n",
    "        img = img_batch[0]\n",
    "        true_label = np.argmax(true_label_batch[0])\n",
    "        pred_label = predicted_classes[i]\n",
    "        \n",
    "        plt.subplot(2, 5, i+1)\n",
    "        plt.imshow(img)\n",
    "        title_color = 'green' if pred_label == true_label else 'red'\n",
    "        plt.title(f\"True: {labels[true_label]}\\nPred: {labels[pred_label]}\", color=title_color)\n",
    "        plt.axis('off')\n",
    "\n",
    "    plt.tight_layout()\n",
    "    plt.show()\n",
    "# ✅ Visualize predictions\n",
    "visualize_predictions(test_data, predicted_classes, labels)\n"
   ]
  }
 ],
 "metadata": {
  "kernelspec": {
   "display_name": "Python 3",
   "language": "python",
   "name": "python3"
  },
  "language_info": {
   "name": "python",
   "version": "3.x"
  }
 },
 "nbformat": 4,
 "nbformat_minor": 5
}
